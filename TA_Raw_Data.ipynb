{
  "nbformat": 4,
  "nbformat_minor": 0,
  "metadata": {
    "colab": {
      "provenance": [],
      "authorship_tag": "ABX9TyPoBBZlRehRegbZuTpODDh6",
      "include_colab_link": true
    },
    "kernelspec": {
      "name": "python3",
      "display_name": "Python 3"
    },
    "language_info": {
      "name": "python"
    }
  },
  "cells": [
    {
      "cell_type": "markdown",
      "metadata": {
        "id": "view-in-github",
        "colab_type": "text"
      },
      "source": [
        "<a href=\"https://colab.research.google.com/github/pandeyp84/Deep-Learning-Tutorials/blob/main/TA_Raw_Data.ipynb\" target=\"_parent\"><img src=\"https://colab.research.google.com/assets/colab-badge.svg\" alt=\"Open In Colab\"/></a>"
      ]
    },
    {
      "cell_type": "code",
      "execution_count": 6,
      "metadata": {
        "colab": {
          "base_uri": "https://localhost:8080/"
        },
        "id": "RNjlkxkLyLFp",
        "outputId": "e93bf4b9-6694-4926-dd6d-e925ce6dfe5e"
      },
      "outputs": [
        {
          "output_type": "stream",
          "name": "stdout",
          "text": [
            "CSV file generated successfully: TA_Raw_Data_Updated_with_Stages_and_Offer_Dates.csv\n"
          ]
        }
      ],
      "source": [
        "import pandas as pd\n",
        "import numpy as np\n",
        "\n",
        "# Define the new stages for the hiring process with numbered prefixes\n",
        "stages = [\n",
        "    \"1. Resume Screening\", \"2. Initial Screening Call\", \"3. Preliminary Interviews\",\n",
        "    \"4. Technical Interviews\", \"5. Behavioural/Panel Interviews\", \"6. HR/Final Round\",\n",
        "    \"7. Offer\"\n",
        "]\n",
        "rejection_stages = [\n",
        "    \"1. Resume Screening\", \"2. Initial Screening Call\", \"3. Preliminary Interviews\",\n",
        "    \"4. Technical Interviews\", \"5. Behavioural/Panel Interviews\", \"6. HR/Final Round\"\n",
        "]\n",
        "\n",
        "# Define meaningful position names and IDs\n",
        "position_ids = [101, 102, 103, 104, 105, 106, 107, 108, 109, 110]\n",
        "position_names = [\n",
        "    \"Director HR\", \"VP Finance\", \"Sales Executive\", \"Marketing Manager\", \"Product Manager\",\n",
        "    \"Software Engineer\", \"Data Scientist\", \"Operations Manager\", \"Customer Support Lead\", \"HR Analyst\"\n",
        "]\n",
        "\n",
        "# Define sources and distribution\n",
        "sources = [\"Employee Referral\", \"Internal Job Portal\", \"Naukri.com\", \"LinkedIn\", \"Indeed\", \"Campus\"]\n",
        "source_distribution = [0.05, 0.10, 0.25, 0.30, 0.20, 0.10]\n",
        "\n",
        "# Generate date ranges\n",
        "def generate_dates(base_date, senior_position=False):\n",
        "    approval_date = base_date\n",
        "    first_interaction_date = approval_date + pd.DateOffset(days=np.random.randint(1, 5))\n",
        "\n",
        "    resume_screening_date = first_interaction_date + pd.DateOffset(days=np.random.randint(1, 5))\n",
        "    initial_screening_date = resume_screening_date + pd.DateOffset(days=np.random.randint(1, 5))\n",
        "    preliminary_interviews_date = initial_screening_date + pd.DateOffset(days=np.random.randint(1, 10))\n",
        "    technical_interviews_date = preliminary_interviews_date + pd.DateOffset(days=np.random.randint(1, 10))\n",
        "    behavioural_interviews_date = technical_interviews_date + pd.DateOffset(days=np.random.randint(1, 10))\n",
        "    hr_final_round_date = behavioural_interviews_date + pd.DateOffset(days=np.random.randint(1, 5))\n",
        "    offer_date = hr_final_round_date + pd.DateOffset(days=np.random.randint(1, 5))\n",
        "\n",
        "    max_days = 120 if senior_position else 90\n",
        "    if (offer_date - approval_date).days > max_days:\n",
        "        offer_date = approval_date + pd.DateOffset(days=max_days)\n",
        "\n",
        "    return (approval_date, first_interaction_date, resume_screening_date, initial_screening_date,\n",
        "            preliminary_interviews_date, technical_interviews_date, behavioural_interviews_date,\n",
        "            hr_final_round_date, offer_date)\n",
        "\n",
        "# Generate sample data\n",
        "np.random.seed(42)  # For reproducibility\n",
        "\n",
        "data = []\n",
        "candidate_id = 1\n",
        "base_date = pd.to_datetime('2023-01-01')\n",
        "\n",
        "for pos_id, pos_name in zip(position_ids, position_names):\n",
        "    num_candidates = np.random.randint(5, 15)  # Random number of CVs (at least 5)\n",
        "    senior_position = pos_id in [101, 102]  # Assuming Director HR and VP Finance are senior positions\n",
        "    stages_counts = {\"1. Resume Screening\": 0, \"2. Initial Screening Call\": 0, \"3. Preliminary Interviews\": 0,\n",
        "                     \"4. Technical Interviews\": 0, \"5. Behavioural/Panel Interviews\": 0, \"6. HR/Final Round\": 0,\n",
        "                     \"7. Offer\": 0}\n",
        "\n",
        "    for _ in range(num_candidates):\n",
        "        gender = np.random.choice([0, 1])\n",
        "        source = np.random.choice(sources, p=source_distribution)\n",
        "        current_stage = np.random.choice(stages[:-1], p=[0.55, 0.15, 0.1, 0.05, 0.05, 0.1])\n",
        "\n",
        "        approval_date = base_date + pd.DateOffset(days=np.random.randint(0, 181))  # Between Jan 2023 to July 2023\n",
        "        dates = generate_dates(approval_date, senior_position)\n",
        "\n",
        "        if stages_counts[\"7. Offer\"] == 0 and np.random.rand() < 0.05:  # Ensure only one offer\n",
        "            current_stage = \"7. Offer\"\n",
        "            stages_counts[current_stage] += 1\n",
        "        else:\n",
        "            rejection_stages_subset = rejection_stages[:stages.index(current_stage) + 1]\n",
        "            #rejection_probabilities = [0.55, 0.15, 0.1, 0.05, 0.05][:len(rejection_stages_subset)]\n",
        "            #rejection_stage = np.random.choice(rejection_stages_subset, p=rejection_probabilities)\n",
        "            #current_stage = rejection_stage\n",
        "\n",
        "        data.append([pos_id, pos_name, candidate_id, gender, source, current_stage] + list(dates))\n",
        "        candidate_id += 1\n",
        "\n",
        "# Convert to DataFrame\n",
        "df = pd.DataFrame(data, columns=[\"Position ID\", \"Position\", \"Candidate ID\", \"Gender\", \"Source of CV\", \"Current Stage\",\n",
        "                                 \"Position Approval Date\", \"Candidate First Interaction Date\", \"Resume Screening Date\",\n",
        "                                 \"Initial Screening Date\", \"Preliminary Interviews Date\", \"Technical Interviews Date\",\n",
        "                                 \"Behavioural/Panel Interviews Date\", \"HR/Final Round Date\", \"Offer Date\"])\n",
        "\n",
        "# Save to the provided CSV file\n",
        "file_path = \"TA_Raw_Data_Updated_with_Stages_and_Offer_Dates.csv\"\n",
        "df.to_csv(file_path, index=False)\n",
        "print(\"CSV file generated successfully: TA_Raw_Data_Updated_with_Stages_and_Offer_Dates.csv\")\n"
      ]
    }
  ]
}